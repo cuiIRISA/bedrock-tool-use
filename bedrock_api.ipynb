{
 "cells": [
  {
   "cell_type": "code",
   "execution_count": 6,
   "id": "cd1c79e2-0569-4c23-be5c-4d58d6c9855a",
   "metadata": {
    "tags": []
   },
   "outputs": [
    {
     "name": "stdout",
     "output_type": "stream",
     "text": [
      "Requirement already satisfied: boto3 in /home/ec2-user/anaconda3/envs/python3/lib/python3.10/site-packages (1.34.125)\n",
      "Requirement already satisfied: botocore<1.35.0,>=1.34.125 in /home/ec2-user/anaconda3/envs/python3/lib/python3.10/site-packages (from boto3) (1.34.125)\n",
      "Requirement already satisfied: jmespath<2.0.0,>=0.7.1 in /home/ec2-user/anaconda3/envs/python3/lib/python3.10/site-packages (from boto3) (1.0.1)\n",
      "Requirement already satisfied: s3transfer<0.11.0,>=0.10.0 in /home/ec2-user/anaconda3/envs/python3/lib/python3.10/site-packages (from boto3) (0.10.1)\n",
      "Requirement already satisfied: python-dateutil<3.0.0,>=2.1 in /home/ec2-user/anaconda3/envs/python3/lib/python3.10/site-packages (from botocore<1.35.0,>=1.34.125->boto3) (2.9.0)\n",
      "Requirement already satisfied: urllib3!=2.2.0,<3,>=1.25.4 in /home/ec2-user/anaconda3/envs/python3/lib/python3.10/site-packages (from botocore<1.35.0,>=1.34.125->boto3) (2.2.1)\n",
      "Requirement already satisfied: six>=1.5 in /home/ec2-user/anaconda3/envs/python3/lib/python3.10/site-packages (from python-dateutil<3.0.0,>=2.1->botocore<1.35.0,>=1.34.125->boto3) (1.16.0)\n"
     ]
    }
   ],
   "source": [
    "!pip install -U boto3"
   ]
  },
  {
   "cell_type": "code",
   "execution_count": 2,
   "id": "b1e06c9f-8dc4-4a24-9b7c-3a5a3d286c9a",
   "metadata": {
    "tags": []
   },
   "outputs": [],
   "source": [
    "# Copyright Amazon.com, Inc. or its affiliates. All Rights Reserved.\n",
    "# SPDX-License-Identifier: Apache-2.0\n",
    "\"\"\"\n",
    "Shows how to use the Converse API with Anthropic Claude 3 Sonnet (on demand).\n",
    "\"\"\"\n",
    "\n",
    "import logging\n",
    "import boto3\n",
    "\n",
    "\n",
    "from botocore.exceptions import ClientError\n",
    "\n",
    "\n",
    "logger = logging.getLogger(__name__)\n",
    "logging.basicConfig(level=logging.INFO)\n",
    "\n",
    "\n",
    "def generate_conversation(bedrock_client,\n",
    "                     model_id,\n",
    "                     system_text,\n",
    "                     input_text):\n",
    "    \"\"\"\n",
    "    Sends a message to a model.\n",
    "    Args:\n",
    "        bedrock_client: The Boto3 Bedrock runtime client.\n",
    "        model_id (str): The model ID to use.\n",
    "        system_text (JSON) : The system prompt.\n",
    "        input text : The input message.\n",
    "\n",
    "    Returns:\n",
    "        response (JSON): The conversation that the model generated.\n",
    "\n",
    "    \"\"\"\n",
    "\n",
    "    logger.info(\"Generating message with model %s\", model_id)\n",
    "\n",
    "    # Message to send.\n",
    "    message = {\n",
    "        \"role\": \"user\",\n",
    "        \"content\": [{\"text\": input_text}]\n",
    "    }\n",
    "    messages = [message]\n",
    "    system_prompts = [{\"text\" : system_text}]\n",
    "\n",
    "    # Inference parameters to use.\n",
    "    temperature = 0.5\n",
    "    top_k = 200\n",
    "\n",
    "    #Base inference parameters to use.\n",
    "    inference_config = {\"temperature\": temperature}\n",
    "    # Additional inference parameters to use.\n",
    "    #additional_model_fields = {\"top_k\": top_k}\n",
    "\n",
    "    # Send the message.\n",
    "    response = bedrock_client.converse(\n",
    "        modelId=model_id,\n",
    "        messages=messages,\n",
    "        system=system_prompts,\n",
    "        inferenceConfig=inference_config,\n",
    "        #additionalModelRequestFields=additional_model_fields\n",
    "    )\n",
    "\n",
    "    return response\n"
   ]
  },
  {
   "cell_type": "code",
   "execution_count": 17,
   "id": "e5b3e38f-f02b-40b7-801b-e5d03d71806e",
   "metadata": {
    "tags": []
   },
   "outputs": [
    {
     "name": "stderr",
     "output_type": "stream",
     "text": [
      "INFO:__main__:Generating message with model anthropic.claude-3-sonnet-20240229-v1:0\n"
     ]
    },
    {
     "name": "stdout",
     "output_type": "stream",
     "text": [
      "Role: assistant\n",
      "Text: Here is a draft article on the impact of high inflation on a country's GDP:\n",
      "\n",
      "The Damaging Effects of High Inflation on Economic Growth\n",
      "\n",
      "While moderate inflation is generally viewed as acceptable by economists, periods of high inflation can severely undermine a nation's economic growth and prosperity. When prices rise at an excessive rate, it distorts spending and investment patterns, erodes consumer purchasing power, and forces painful interventions by central banks to regain control over escalating costs.\n",
      "\n",
      "At its core, high inflation acts as a drag on real GDP growth by diminishing the value of money and discouraging investment. As prices spiral upward, consumers are forced to spend more on the same basket of goods and services, leaving them with less discretionary income to spend or invest elsewhere. This pullback in consumer demand can cause businesses to scale back operations and capital expenditures.\n",
      "\n",
      "On the supply side, high inflation increases input costs for companies across materials, labor, energy, and borrowing expenses. These higher costs of production often need to be passed along to consumers in the form of higher prices, which can price some consumers out of the market altogether. The combination of weaker demand and supply-side constraints puts downward pressure on real GDP output.\n",
      "\n",
      "Critically, if inflation becomes entrenched in public expectations, it can lead to a self-perpetuating cycle of wage and price hikes that is difficult to arrest. Workers demand higher wages to maintain purchasing power, which feeds into higher production costs and prices for businesses. The longer this wage-price spiral continues, the more damaging it becomes for economic growth and productivity.\n",
      "\n",
      "To combat high inflation, central banks typically need to raise interest rates aggressively, making borrowing more expensive for businesses and consumers. While this can help cool demand-driven inflation pressures, it also increases the risk of tipping the economy into a recession as higher rates depress business investment and big-ticket household purchases.\n",
      "\n",
      "Beyond these economic impacts, high inflation can also lead to negative social consequences by eroding living standards, increasing income inequality, and undermining faith in national currencies and institutions. Historically, episodes of extremely high or hyperinflation have caused severe economic dislocations and political instability.\n",
      "\n",
      "While some moderate inflation may be acceptable to account for a growing economy, policymakers must remain vigilant against letting price pressures become excessive and destabilizing. Preserving price stability is essential for fostering an environment conducive to sustainable economic growth, investment, and prosperity. Periods of high inflation can inflict severe damage on a nation's economic potential if allowed to become entrenched.\n",
      "Input tokens:  31\n",
      "Output tokens:  543\n",
      "Total tokens:  574\n",
      "Stop reason: end_turn\n",
      "Finished generating text with model anthropic.claude-3-sonnet-20240229-v1:0.\n"
     ]
    }
   ],
   "source": [
    "logging.basicConfig(level=logging.INFO,\n",
    "                    format=\"%(levelname)s: %(message)s\")\n",
    "\n",
    "model_id = \"anthropic.claude-3-sonnet-20240229-v1:0\"\n",
    "#model_id = \"mistral.mistral-large-2402-v1:0\"\n",
    "\n",
    "system_text = \"You are an economist with access to lots of data\"\n",
    "#system_text = \"You are an economist with access to lots of data. Please return the results in Chinese\"\n",
    "\n",
    "input_text = \"Write an article about impact of high inflation to GDP of a country.\"\n",
    "\n",
    "try:\n",
    "\n",
    "    bedrock_client = boto3.client(service_name='bedrock-runtime')\n",
    "\n",
    "    response = generate_conversation(\n",
    "        bedrock_client, model_id, system_text, input_text)\n",
    "\n",
    "    output_message = response['output']['message']\n",
    "\n",
    "    print(f\"Role: {output_message['role']}\")\n",
    "\n",
    "    for content in output_message['content']:\n",
    "        print(f\"Text: {content['text']}\")\n",
    "\n",
    "    token_usage = response['usage']\n",
    "    print(f\"Input tokens:  {token_usage['inputTokens']}\")\n",
    "    print(f\"Output tokens:  {token_usage['outputTokens']}\")\n",
    "    print(f\"Total tokens:  {token_usage['totalTokens']}\")\n",
    "    print(f\"Stop reason: {response['stopReason']}\")\n",
    "\n",
    "except ClientError as err:\n",
    "    message = err.response['Error']['Message']\n",
    "    logger.error(\"A client error occurred: %s\", message)\n",
    "    print(f\"A client error occured: {message}\")\n",
    "\n",
    "else:\n",
    "    print(\n",
    "        f\"Finished generating text with model {model_id}.\")\n",
    "\n"
   ]
  },
  {
   "cell_type": "code",
   "execution_count": 18,
   "id": "b4f2ec58-ffb6-496c-9681-d75f02dd40cc",
   "metadata": {
    "tags": []
   },
   "outputs": [
    {
     "data": {
      "text/plain": [
       "{'ResponseMetadata': {'RequestId': '64f0fa26-5b9f-486d-8775-f85ddc6b7e5a',\n",
       "  'HTTPStatusCode': 200,\n",
       "  'HTTPHeaders': {'date': 'Thu, 13 Jun 2024 09:04:09 GMT',\n",
       "   'content-type': 'application/json',\n",
       "   'content-length': '3067',\n",
       "   'connection': 'keep-alive',\n",
       "   'x-amzn-requestid': '64f0fa26-5b9f-486d-8775-f85ddc6b7e5a'},\n",
       "  'RetryAttempts': 0},\n",
       " 'output': {'message': {'role': 'assistant',\n",
       "   'content': [{'text': \"Here is a draft article on the impact of high inflation on a country's GDP:\\n\\nThe Damaging Effects of High Inflation on Economic Growth\\n\\nWhile moderate inflation is generally viewed as acceptable by economists, periods of high inflation can severely undermine a nation's economic growth and prosperity. When prices rise at an excessive rate, it distorts spending and investment patterns, erodes consumer purchasing power, and forces painful interventions by central banks to regain control over escalating costs.\\n\\nAt its core, high inflation acts as a drag on real GDP growth by diminishing the value of money and discouraging investment. As prices spiral upward, consumers are forced to spend more on the same basket of goods and services, leaving them with less discretionary income to spend or invest elsewhere. This pullback in consumer demand can cause businesses to scale back operations and capital expenditures.\\n\\nOn the supply side, high inflation increases input costs for companies across materials, labor, energy, and borrowing expenses. These higher costs of production often need to be passed along to consumers in the form of higher prices, which can price some consumers out of the market altogether. The combination of weaker demand and supply-side constraints puts downward pressure on real GDP output.\\n\\nCritically, if inflation becomes entrenched in public expectations, it can lead to a self-perpetuating cycle of wage and price hikes that is difficult to arrest. Workers demand higher wages to maintain purchasing power, which feeds into higher production costs and prices for businesses. The longer this wage-price spiral continues, the more damaging it becomes for economic growth and productivity.\\n\\nTo combat high inflation, central banks typically need to raise interest rates aggressively, making borrowing more expensive for businesses and consumers. While this can help cool demand-driven inflation pressures, it also increases the risk of tipping the economy into a recession as higher rates depress business investment and big-ticket household purchases.\\n\\nBeyond these economic impacts, high inflation can also lead to negative social consequences by eroding living standards, increasing income inequality, and undermining faith in national currencies and institutions. Historically, episodes of extremely high or hyperinflation have caused severe economic dislocations and political instability.\\n\\nWhile some moderate inflation may be acceptable to account for a growing economy, policymakers must remain vigilant against letting price pressures become excessive and destabilizing. Preserving price stability is essential for fostering an environment conducive to sustainable economic growth, investment, and prosperity. Periods of high inflation can inflict severe damage on a nation's economic potential if allowed to become entrenched.\"}]}},\n",
       " 'stopReason': 'end_turn',\n",
       " 'usage': {'inputTokens': 31, 'outputTokens': 543, 'totalTokens': 574},\n",
       " 'metrics': {'latencyMs': 13139}}"
      ]
     },
     "execution_count": 18,
     "metadata": {},
     "output_type": "execute_result"
    }
   ],
   "source": [
    "response"
   ]
  },
  {
   "cell_type": "code",
   "execution_count": null,
   "id": "86ecd808-3a88-4ad8-b81b-9cdde55b8d87",
   "metadata": {},
   "outputs": [],
   "source": []
  }
 ],
 "metadata": {
  "kernelspec": {
   "display_name": "conda_python3",
   "language": "python",
   "name": "conda_python3"
  },
  "language_info": {
   "codemirror_mode": {
    "name": "ipython",
    "version": 3
   },
   "file_extension": ".py",
   "mimetype": "text/x-python",
   "name": "python",
   "nbconvert_exporter": "python",
   "pygments_lexer": "ipython3",
   "version": "3.10.14"
  }
 },
 "nbformat": 4,
 "nbformat_minor": 5
}
