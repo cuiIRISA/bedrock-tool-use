{
 "cells": [
  {
   "cell_type": "code",
   "execution_count": null,
   "id": "27b54cd4-5faf-440c-804b-94175ada43af",
   "metadata": {},
   "outputs": [],
   "source": [
    "pip install -U boto3"
   ]
  },
  {
   "cell_type": "code",
   "execution_count": null,
   "id": "79d564e7-460d-4bba-b212-bc4eb5d4c9b1",
   "metadata": {},
   "outputs": [],
   "source": [
    "import logging\n",
    "import boto3\n",
    "\n",
    "from botocore.exceptions import ClientError\n",
    "\n",
    "logger = logging.getLogger(__name__)\n",
    "logging.basicConfig(level=logging.INFO)"
   ]
  },
  {
   "cell_type": "markdown",
   "id": "54b67721-bff1-4ec6-8948-f2402efa9f27",
   "metadata": {},
   "source": [
    "### Define your tool e.g. a python function, lambda function, API with backend microservice etc. "
   ]
  },
  {
   "cell_type": "code",
   "execution_count": 1,
   "id": "38679c0f-a83a-45f1-819c-5f83bade8f14",
   "metadata": {
    "tags": []
   },
   "outputs": [],
   "source": [
    "def get_top_song(call_sign):\n",
    "    \"\"\"Returns the most popular song for the requested station.\n",
    "    Args:\n",
    "        call_sign (str): The call sign for the station for which you want\n",
    "        the most popular song.\n",
    "\n",
    "    Returns:\n",
    "        response (json): The most popular song and artist.\n",
    "    \"\"\"\n",
    "\n",
    "    song = \"\"\n",
    "    artist = \"\"\n",
    "    return song, artist"
   ]
  },
  {
   "cell_type": "markdown",
   "id": "9547d8d8-ec72-4822-a07b-0de8d1b69ef7",
   "metadata": {},
   "source": [
    "#### tool_config required for Bedrock API https://docs.aws.amazon.com/bedrock/latest/userguide/tool-use.html \n",
    "\n",
    "- In Amazon Bedrock, the model doesn't directly call the tool. In your code, you call the tool on the model's behalf.\n",
    "- If the model determines that it needs the tool to generate a response for the message, the model responds with a request for you to call the tool.\n",
    "- It also includes the input parameters (the required radio station) to pass to the tool."
   ]
  },
  {
   "cell_type": "code",
   "execution_count": 5,
   "id": "87287ddb-5d40-48a0-a97d-ee490c532a9e",
   "metadata": {
    "tags": []
   },
   "outputs": [],
   "source": [
    "tool_config = {\n",
    "\"tools\": [\n",
    "    {\n",
    "        \"toolSpec\": {\n",
    "            \"name\": \"top_song\",\n",
    "            \"description\": \"Get the most popular song played on a radio station.\",\n",
    "            \"inputSchema\": {\n",
    "                \"json\": {\n",
    "                    \"type\": \"object\",\n",
    "                    \"properties\": {\n",
    "                        \"sign\": {\n",
    "                            \"type\": \"string\",\n",
    "                            \"description\": \"The name for the radio station for which you want the most popular song. Example calls signs are WZPZ, and WKRP, and particular streaming service\"\n",
    "                        }\n",
    "                    },\n",
    "                    \"required\": [\n",
    "                        \"sign\"\n",
    "                    ]\n",
    "                }\n",
    "            }\n",
    "        }\n",
    "    }\n",
    "]\n",
    "}"
   ]
  },
  {
   "cell_type": "markdown",
   "id": "8ab86cc7-9f61-4fe7-a316-dd4978a61c05",
   "metadata": {},
   "source": [
    "#### Kickoff the conversation and see the tooluse returned message "
   ]
  },
  {
   "cell_type": "markdown",
   "id": "ae305931-4bb5-4e51-b435-8964d9a0fd0b",
   "metadata": {},
   "source": [
    "##### Case 1 General question, no trigger the tool use"
   ]
  },
  {
   "cell_type": "code",
   "execution_count": 23,
   "id": "c5180bd8-3c1b-40cf-8d05-bb134091bbed",
   "metadata": {
    "tags": []
   },
   "outputs": [
    {
     "name": "stdout",
     "output_type": "stream",
     "text": [
      "Initial response:  {'ResponseMetadata': {'RequestId': 'cc4464be-82e9-4390-beec-511fe7209f2c', 'HTTPStatusCode': 200, 'HTTPHeaders': {'date': 'Wed, 05 Jun 2024 02:41:47 GMT', 'content-type': 'application/json', 'content-length': '384', 'connection': 'keep-alive', 'x-amzn-requestid': 'cc4464be-82e9-4390-beec-511fe7209f2c'}, 'RetryAttempts': 0}, 'output': {'message': {'role': 'assistant', 'content': [{'text': \"I'm an AI assistant created by Anthropic to be helpful, harmless, and honest. I don't have feelings or subjective experiences like humans do, but I'm operating as intended. How can I assist you today?\"}]}}, 'stopReason': 'end_turn', 'usage': {'inputTokens': 275, 'outputTokens': 50, 'totalTokens': 325}, 'metrics': {'latencyMs': 2319}}\n",
      "#############################\n"
     ]
    }
   ],
   "source": [
    "import boto3 \n",
    "\n",
    "bedrock_client = boto3.client(service_name='bedrock-runtime')\n",
    "model_id = \"anthropic.claude-3-sonnet-20240229-v1:0\"\n",
    "\n",
    "input_text = \"How are you\"\n",
    "\n",
    "# Create the initial message from the user input.\n",
    "messages = [{\n",
    "    \"role\": \"user\",\n",
    "    \"content\": [{\"text\": input_text}]\n",
    "}]\n",
    "\n",
    "\n",
    "\n",
    "response = bedrock_client.converse(\n",
    "    modelId=model_id,\n",
    "    messages=messages,\n",
    "    toolConfig=tool_config\n",
    ")\n",
    "print(\"Initial response: \", response)\n",
    "print(\"#############################\")"
   ]
  },
  {
   "cell_type": "markdown",
   "id": "0b6bd33e-6826-4578-8653-79fe8c0c2f01",
   "metadata": {},
   "source": [
    "##### Case 2 Specific question, triggerring the tool use"
   ]
  },
  {
   "cell_type": "code",
   "execution_count": 22,
   "id": "5e219d34-aa83-4e9e-bdfb-8329d877ad0e",
   "metadata": {
    "tags": []
   },
   "outputs": [
    {
     "name": "stdout",
     "output_type": "stream",
     "text": [
      "Initial response:  {'ResponseMetadata': {'RequestId': 'cc620e2a-5444-478a-89d7-73d8c253aa53', 'HTTPStatusCode': 200, 'HTTPHeaders': {'date': 'Wed, 05 Jun 2024 02:41:14 GMT', 'content-type': 'application/json', 'content-length': '387', 'connection': 'keep-alive', 'x-amzn-requestid': 'cc620e2a-5444-478a-89d7-73d8c253aa53'}, 'RetryAttempts': 0}, 'output': {'message': {'role': 'assistant', 'content': [{'text': 'To get the top song recommendation for Apple Music, we can use the \"top_song\" tool like this:'}, {'toolUse': {'toolUseId': 'tooluse_Ax7QaXOpTmyJdi3Jdvk5HA', 'name': 'top_song', 'input': {'sign': 'Apple Music'}}}]}}, 'stopReason': 'tool_use', 'usage': {'inputTokens': 284, 'outputTokens': 78, 'totalTokens': 362}, 'metrics': {'latencyMs': 1350}}\n",
      "#############################\n"
     ]
    }
   ],
   "source": [
    "import boto3 \n",
    "\n",
    "bedrock_client = boto3.client(service_name='bedrock-runtime')\n",
    "model_id = \"anthropic.claude-3-sonnet-20240229-v1:0\"\n",
    "\n",
    "#input_text = \"Can I have some popular song recommendation? \"\n",
    "input_text = \"Can I have some top song recommendation on Apple Music? \"\n",
    "\n",
    "\n",
    "# Create the initial message from the user input.\n",
    "messages = [{\n",
    "    \"role\": \"user\",\n",
    "    \"content\": [{\"text\": input_text}]\n",
    "}]\n",
    "\n",
    "\n",
    "\n",
    "response = bedrock_client.converse(\n",
    "    modelId=model_id,\n",
    "    messages=messages,\n",
    "    toolConfig=tool_config\n",
    ")\n",
    "print(\"Initial response: \", response)\n",
    "print(\"#############################\")"
   ]
  },
  {
   "cell_type": "markdown",
   "id": "9b79a7a2-4c80-4d48-beb5-29a38e91d869",
   "metadata": {},
   "source": [
    "##### Case 3 Multiple questions, partially triggerring the tool use"
   ]
  },
  {
   "cell_type": "code",
   "execution_count": 26,
   "id": "712281e8-46d7-4783-bf51-6f2508f9e5a0",
   "metadata": {
    "tags": []
   },
   "outputs": [
    {
     "name": "stdout",
     "output_type": "stream",
     "text": [
      "Initial response:  {'ResponseMetadata': {'RequestId': 'c7f08fa7-1df7-4950-a510-f9efcfd2aec7', 'HTTPStatusCode': 200, 'HTTPHeaders': {'date': 'Wed, 05 Jun 2024 02:53:52 GMT', 'content-type': 'application/json', 'content-length': '477', 'connection': 'keep-alive', 'x-amzn-requestid': 'c7f08fa7-1df7-4950-a510-f9efcfd2aec7'}, 'RetryAttempts': 0}, 'output': {'message': {'role': 'assistant', 'content': [{'text': 'Unfortunately I do not have direct access to full song lyrics or music recommendations. However, I can provide the top song from a radio station callsign using the top_song tool. For example:'}, {'toolUse': {'toolUseId': 'tooluse_NpGXd7NKQPycDfjCIX96rQ', 'name': 'top_song', 'input': {'sign': 'HITS1'}}}]}}, 'stopReason': 'tool_use', 'usage': {'inputTokens': 295, 'outputTokens': 96, 'totalTokens': 391}, 'metrics': {'latencyMs': 2411}}\n",
      "#############################\n"
     ]
    }
   ],
   "source": [
    "import boto3 \n",
    "\n",
    "bedrock_client = boto3.client(service_name='bedrock-runtime')\n",
    "model_id = \"anthropic.claude-3-sonnet-20240229-v1:0\"\n",
    "\n",
    "input_text = \"Can I have the lyrics of the song Shake It Off, and get some popular song recommendation like this? \"\n",
    "\n",
    "# Create the initial message from the user input.\n",
    "messages = [{\n",
    "    \"role\": \"user\",\n",
    "    \"content\": [{\"text\": input_text}]\n",
    "}]\n",
    "\n",
    "\n",
    "\n",
    "response = bedrock_client.converse(\n",
    "    modelId=model_id,\n",
    "    messages=messages,\n",
    "    toolConfig=tool_config\n",
    ")\n",
    "print(\"Initial response: \", response)\n",
    "print(\"#############################\")"
   ]
  },
  {
   "cell_type": "markdown",
   "id": "0b4a0b38-d2a2-4ac3-bd26-866b875a309a",
   "metadata": {},
   "source": [
    "### Parse the response from LLM "
   ]
  },
  {
   "cell_type": "code",
   "execution_count": 31,
   "id": "8297f0bd-b851-4246-97d9-7422a8721c36",
   "metadata": {
    "tags": []
   },
   "outputs": [],
   "source": [
    "def parse_tool_use(llm_output):\n",
    "    output_message = llm_output['output']['message']\n",
    "    stop_reason = llm_output['stopReason']\n",
    "    tool_request_list = []\n",
    "    \n",
    "    if stop_reason == 'tool_use':\n",
    "        tool_requests = output_message['content']\n",
    "        for tool_request in tool_requests:\n",
    "            if 'toolUse' in tool_request:\n",
    "                tool_request_list.append(tool_request['toolUse'])\n",
    "    \n",
    "    return output_message, stop_reason, tool_request_list"
   ]
  },
  {
   "cell_type": "code",
   "execution_count": 32,
   "id": "440ee5da-df87-442c-8bc4-70fe50ebac87",
   "metadata": {
    "tags": []
   },
   "outputs": [],
   "source": [
    "output_message, stop_reason, tool_request_list = parse_tool_use(response)"
   ]
  },
  {
   "cell_type": "code",
   "execution_count": 33,
   "id": "80d27540-26a6-4cd7-88e1-e418ffbe8a57",
   "metadata": {
    "tags": []
   },
   "outputs": [
    {
     "data": {
      "text/plain": [
       "[{'toolUseId': 'tooluse_NpGXd7NKQPycDfjCIX96rQ',\n",
       "  'name': 'top_song',\n",
       "  'input': {'sign': 'HITS1'}}]"
      ]
     },
     "execution_count": 33,
     "metadata": {},
     "output_type": "execute_result"
    }
   ],
   "source": [
    "tool_request_list"
   ]
  },
  {
   "cell_type": "markdown",
   "id": "f1e42668-1f7c-4b27-8dfe-6f71246da0c5",
   "metadata": {},
   "source": [
    "### Use your tool and return to LLM"
   ]
  },
  {
   "cell_type": "code",
   "execution_count": 34,
   "id": "46a2f8cb-33ad-4d4f-8fca-6b4ccef99032",
   "metadata": {
    "tags": []
   },
   "outputs": [],
   "source": [
    "def get_top_song(sign):\n",
    "    \"\"\"Returns the most popular song for the requested station.\n",
    "    Args:\n",
    "        sign (str): The call sign for the station for which you want\n",
    "        the most popular song.\n",
    "\n",
    "    Returns:\n",
    "        response (json): The most popular song and artist.\n",
    "    \"\"\"\n",
    "\n",
    "    song = \"\"\n",
    "    artist = \"\"\n",
    "    if sign == 'WZPZ':\n",
    "        song = \"Elemental Hotel\"\n",
    "        artist = \"8 Storey Hike\"\n",
    "\n",
    "    else:\n",
    "        raise StationNotFoundError(f\"Station {sign} not found.\")\n",
    "\n",
    "    return song, artist\n",
    "\n",
    "class StationNotFoundError(Exception):\n",
    "    \"\"\"Raised when a radio station isn't found.\"\"\"\n",
    "    pass"
   ]
  },
  {
   "cell_type": "code",
   "execution_count": 35,
   "id": "3a82f9bd-180b-4099-8eb8-2b336b2676d5",
   "metadata": {
    "tags": []
   },
   "outputs": [],
   "source": [
    "def tool_call_parse_get_top_song(tool_request): \n",
    "    tool_use_id = tool_request['toolUseId']\n",
    "    function_argument = tool_request['input']\n",
    "    try:\n",
    "        song, artist = get_top_song(**function_argument)\n",
    "        tool_result = {\n",
    "            \"toolUseId\": tool_use_id,\n",
    "            \"content\": [{\"json\": {\"song\": song, \"artist\": artist}}]\n",
    "        }\n",
    "    except StationNotFoundError as err:\n",
    "        tool_result = {\n",
    "            \"toolUseId\": tool_use_id,\n",
    "            \"content\": [{\"text\":  err.args[0]}],\n",
    "            \"status\": 'error'\n",
    "        }\n",
    "        \n",
    "    return tool_result\n",
    "\n",
    "\n",
    "def backend_call_tool(tool_request_list):\n",
    "    tool_api_return = []\n",
    "    for tool_request in tool_request_list:\n",
    "        function_name = tool_request['name']\n",
    "        if function_name == 'top_song':\n",
    "            tool_api_return.append(tool_call_parse_get_top_song(tool_request))\n",
    "\n",
    "    return tool_api_return"
   ]
  },
  {
   "cell_type": "code",
   "execution_count": 39,
   "id": "e853d71e-e889-47ee-973f-4fd3c3e3792b",
   "metadata": {
    "tags": []
   },
   "outputs": [],
   "source": [
    "tool_request_list =[{\n",
    "    'toolUseId': 'tooluse_NpGXd7NKQPycDfjCIX96rQ',\n",
    "    'name': 'top_song',\n",
    "    'input': {'sign': 'WZPZ'}}]"
   ]
  },
  {
   "cell_type": "code",
   "execution_count": 41,
   "id": "81636d17-d38d-4b6a-ae97-bb4f8dafaa10",
   "metadata": {
    "tags": []
   },
   "outputs": [
    {
     "data": {
      "text/plain": [
       "[{'toolUseId': 'tooluse_NpGXd7NKQPycDfjCIX96rQ',\n",
       "  'content': [{'json': {'song': 'Elemental Hotel',\n",
       "     'artist': '8 Storey Hike'}}]}]"
      ]
     },
     "execution_count": 41,
     "metadata": {},
     "output_type": "execute_result"
    }
   ],
   "source": [
    "tool_result = backend_call_tool(tool_request_list)\n",
    "tool_result"
   ]
  },
  {
   "cell_type": "markdown",
   "id": "b34ba5e1-fa1e-4f4f-8d13-e822fa26392f",
   "metadata": {},
   "source": [
    "#### Return to LLM as message api"
   ]
  },
  {
   "cell_type": "code",
   "execution_count": 43,
   "id": "c1f73dd3-c8e5-48e3-822f-e7b36adaad4d",
   "metadata": {
    "tags": []
   },
   "outputs": [
    {
     "data": {
      "text/plain": [
       "{'role': 'user',\n",
       " 'content': [{'toolResult': [{'toolUseId': 'tooluse_NpGXd7NKQPycDfjCIX96rQ',\n",
       "     'content': [{'json': {'song': 'Elemental Hotel',\n",
       "        'artist': '8 Storey Hike'}}]}]}]}"
      ]
     },
     "execution_count": 43,
     "metadata": {},
     "output_type": "execute_result"
    }
   ],
   "source": [
    "tool_result_message = {\n",
    "    \"role\": \"user\",\n",
    "    \"content\": [\n",
    "        {\n",
    "            \"toolResult\": tool_result\n",
    "\n",
    "        }\n",
    "    ]\n",
    "}\n",
    "tool_result_message"
   ]
  },
  {
   "cell_type": "markdown",
   "id": "59f7ee00-d2af-4564-90dc-66901c80183b",
   "metadata": {},
   "source": [
    "## Adding together"
   ]
  },
  {
   "cell_type": "code",
   "execution_count": 57,
   "id": "dd060171-5767-4ed0-9e6d-c3998ed0b290",
   "metadata": {
    "tags": []
   },
   "outputs": [
    {
     "name": "stdout",
     "output_type": "stream",
     "text": [
      "Initial response:  {'ResponseMetadata': {'RequestId': '6fed640f-de93-4669-a4c0-26195896a78d', 'HTTPStatusCode': 200, 'HTTPHeaders': {'date': 'Wed, 05 Jun 2024 03:27:09 GMT', 'content-type': 'application/json', 'content-length': '484', 'connection': 'keep-alive', 'x-amzn-requestid': '6fed640f-de93-4669-a4c0-26195896a78d'}, 'RetryAttempts': 0}, 'output': {'message': {'role': 'assistant', 'content': [{'text': 'Unfortunately I don\\'t have direct access to song lyrics or music recommendations. However, I can provide the top song played on a radio station or streaming service by invoking the \"top_song\" tool:'}, {'toolUse': {'toolUseId': 'tooluse_fk3selewTEucHppKz0Iw6w', 'name': 'top_song', 'input': {'sign': 'WZPZ'}}}]}}, 'stopReason': 'tool_use', 'usage': {'inputTokens': 295, 'outputTokens': 98, 'totalTokens': 393}, 'metrics': {'latencyMs': 2178}}\n",
      "#############################\n"
     ]
    }
   ],
   "source": [
    "import boto3 \n",
    "\n",
    "bedrock_client = boto3.client(service_name='bedrock-runtime')\n",
    "model_id = \"anthropic.claude-3-sonnet-20240229-v1:0\"\n",
    "\n",
    "input_text = \"Can I have the lyrics of the song Shake It Off, and get some popular song recommendation like this? \"\n",
    "\n",
    "# Create the initial message from the user input.\n",
    "messages = [{\n",
    "    \"role\": \"user\",\n",
    "    \"content\": [{\"text\": input_text}]\n",
    "}]\n",
    "\n",
    "\n",
    "response = bedrock_client.converse(\n",
    "    modelId=model_id,\n",
    "    messages=messages,\n",
    "    toolConfig=tool_config\n",
    ")\n",
    "print(\"Initial response: \", response)\n",
    "print(\"#############################\")"
   ]
  },
  {
   "cell_type": "code",
   "execution_count": 58,
   "id": "0cf950b1-b68c-4930-a340-dbc52fb13b33",
   "metadata": {
    "tags": []
   },
   "outputs": [],
   "source": [
    "output_message, stop_reason, tool_request_list = parse_tool_use(response)\n",
    "messages.append(output_message)\n",
    "tool_result = backend_call_tool(tool_request_list)\n",
    "tool_result_message = {\n",
    "    \"role\": \"user\",\n",
    "    \"content\": [\n",
    "        {\n",
    "            \"toolResult\": tool_result[0]\n",
    "\n",
    "        }\n",
    "    ]\n",
    "}\n",
    "tool_result_message\n",
    "messages.append(tool_result_message)"
   ]
  },
  {
   "cell_type": "code",
   "execution_count": 59,
   "id": "2d137c17-cd2e-4935-931c-b4b88ddf5ea6",
   "metadata": {
    "tags": []
   },
   "outputs": [
    {
     "name": "stdout",
     "output_type": "stream",
     "text": [
      "Messages:  [{'role': 'user', 'content': [{'text': 'Can I have the lyrics of the song Shake It Off, and get some popular song recommendation like this? '}]}, {'role': 'assistant', 'content': [{'text': 'Unfortunately I don\\'t have direct access to song lyrics or music recommendations. However, I can provide the top song played on a radio station or streaming service by invoking the \"top_song\" tool:'}, {'toolUse': {'toolUseId': 'tooluse_fk3selewTEucHppKz0Iw6w', 'name': 'top_song', 'input': {'sign': 'WZPZ'}}}]}, {'role': 'user', 'content': [{'toolResult': {'toolUseId': 'tooluse_fk3selewTEucHppKz0Iw6w', 'content': [{'json': {'song': 'Elemental Hotel', 'artist': '8 Storey Hike'}}]}}]}]\n",
      "#############################\n"
     ]
    }
   ],
   "source": [
    "print(\"Messages: \", messages)\n",
    "print(\"#############################\")"
   ]
  },
  {
   "cell_type": "code",
   "execution_count": 62,
   "id": "34809634-cd05-4e5a-86e5-5ea5cf71c46c",
   "metadata": {
    "tags": []
   },
   "outputs": [
    {
     "name": "stdout",
     "output_type": "stream",
     "text": [
      "{'role': 'assistant', 'content': [{'text': 'Okay, based on invoking the \"top_song\" tool for the radio station WZPZ, the most popular song currently is \"Elemental Hotel\" by the artist \"8 Storey Hike\".\\n\\nAs for getting the lyrics to \"Shake It Off\" by Taylor Swift, I don\\'t have a tool available to directly retrieve full song lyrics. However, here are a few lines from the chorus:\\n\\n\"Players gonna play, play, play, play, play\\nAnd the haters gonna hate, hate, hate, hate, hate\\nBaby, I\\'m just gonna shake, shake, shake, shake, shake\\nI shake it off, I shake it off\"\\n\\nThe song encourages shaking off negativity from critics and naysayers. While I can\\'t provide the full lyrics, hopefully those excerpt gives you a sense of the upbeat, empowering message of the song. Let me know if you need anything else!'}]}\n"
     ]
    }
   ],
   "source": [
    "# Send the tool result to the model.\n",
    "response = bedrock_client.converse(\n",
    "    modelId=model_id,\n",
    "    messages=messages,\n",
    "    toolConfig=tool_config\n",
    ")\n",
    "print(response['output']['message'])"
   ]
  },
  {
   "cell_type": "code",
   "execution_count": null,
   "id": "b14db033-39ec-4205-bcb3-22c3429d64fc",
   "metadata": {},
   "outputs": [],
   "source": []
  },
  {
   "cell_type": "code",
   "execution_count": null,
   "id": "1e0a38e7-73cc-49ba-9878-e86f1c716d69",
   "metadata": {},
   "outputs": [],
   "source": []
  }
 ],
 "metadata": {
  "kernelspec": {
   "display_name": "conda_python3",
   "language": "python",
   "name": "conda_python3"
  },
  "language_info": {
   "codemirror_mode": {
    "name": "ipython",
    "version": 3
   },
   "file_extension": ".py",
   "mimetype": "text/x-python",
   "name": "python",
   "nbconvert_exporter": "python",
   "pygments_lexer": "ipython3",
   "version": "3.10.14"
  }
 },
 "nbformat": 4,
 "nbformat_minor": 5
}
