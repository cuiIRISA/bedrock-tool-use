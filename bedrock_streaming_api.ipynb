{
 "cells": [
  {
   "cell_type": "code",
   "execution_count": 1,
   "id": "cd1c79e2-0569-4c23-be5c-4d58d6c9855a",
   "metadata": {
    "tags": []
   },
   "outputs": [
    {
     "name": "stdout",
     "output_type": "stream",
     "text": [
      "Requirement already satisfied: boto3 in /home/ec2-user/anaconda3/envs/python3/lib/python3.10/site-packages (1.34.125)\n",
      "Requirement already satisfied: botocore<1.35.0,>=1.34.125 in /home/ec2-user/anaconda3/envs/python3/lib/python3.10/site-packages (from boto3) (1.34.125)\n",
      "Requirement already satisfied: jmespath<2.0.0,>=0.7.1 in /home/ec2-user/anaconda3/envs/python3/lib/python3.10/site-packages (from boto3) (1.0.1)\n",
      "Requirement already satisfied: s3transfer<0.11.0,>=0.10.0 in /home/ec2-user/anaconda3/envs/python3/lib/python3.10/site-packages (from boto3) (0.10.1)\n",
      "Requirement already satisfied: python-dateutil<3.0.0,>=2.1 in /home/ec2-user/anaconda3/envs/python3/lib/python3.10/site-packages (from botocore<1.35.0,>=1.34.125->boto3) (2.9.0)\n",
      "Requirement already satisfied: urllib3!=2.2.0,<3,>=1.25.4 in /home/ec2-user/anaconda3/envs/python3/lib/python3.10/site-packages (from botocore<1.35.0,>=1.34.125->boto3) (2.2.1)\n",
      "Requirement already satisfied: six>=1.5 in /home/ec2-user/anaconda3/envs/python3/lib/python3.10/site-packages (from python-dateutil<3.0.0,>=2.1->botocore<1.35.0,>=1.34.125->boto3) (1.16.0)\n",
      "Note: you may need to restart the kernel to use updated packages.\n"
     ]
    }
   ],
   "source": [
    "pip install -U boto3"
   ]
  },
  {
   "cell_type": "code",
   "execution_count": 2,
   "id": "b1e06c9f-8dc4-4a24-9b7c-3a5a3d286c9a",
   "metadata": {
    "tags": []
   },
   "outputs": [],
   "source": [
    "# Copyright Amazon.com, Inc. or its affiliates. All Rights Reserved.\n",
    "# SPDX-License-Identifier: Apache-2.0\n",
    "\"\"\"\n",
    "Shows how to use the Converse API with Anthropic Claude 3 Sonnet (on demand).\n",
    "\"\"\"\n",
    "\n",
    "import logging\n",
    "import boto3\n",
    "\n",
    "\n",
    "from botocore.exceptions import ClientError\n",
    "\n",
    "\n",
    "logger = logging.getLogger(__name__)\n",
    "logging.basicConfig(level=logging.INFO)\n",
    "\n",
    "\n",
    "def generate_conversation(bedrock_client,\n",
    "                    model_id,\n",
    "                    messages,\n",
    "                    system_prompts):\n",
    "\n",
    "\n",
    "    logger.info(\"Streaming messages with model %s\", model_id)\n",
    "    # Message to send.\n",
    "    message = {\n",
    "        \"role\": \"user\",\n",
    "        \"content\": [{\"text\": input_text}]\n",
    "    }\n",
    "    \n",
    "    messages = [message]\n",
    "    system_prompts = [{\"text\" : system_text}]\n",
    "\n",
    "    # Inference parameters to use.\n",
    "    temperature = 0.5\n",
    "    top_k = 200\n",
    "\n",
    "    #Base inference parameters to use.\n",
    "    inference_config = {\"temperature\": temperature}\n",
    "\n",
    "    response = bedrock_client.converse_stream(\n",
    "        modelId=model_id,\n",
    "        messages=messages,\n",
    "        system=system_prompts,\n",
    "        inferenceConfig = inference_config)\n",
    "\n",
    "    stream = response.get('stream')\n",
    "    if stream:\n",
    "        for event in stream:\n",
    "\n",
    "            if 'messageStart' in event:\n",
    "                print(f\"\\nRole: {event['messageStart']['role']}\")\n",
    "\n",
    "            if 'contentBlockDelta' in event:\n",
    "                print(event['contentBlockDelta']['delta']['text'], end=\"\")\n",
    "\n",
    "            if 'messageStop' in event:\n",
    "                print(f\"\\nStop reason: {event['messageStop']['stopReason']}\")\n",
    "\n",
    "            if 'metadata' in event:\n",
    "                metadata = event['metadata']\n",
    "                if 'usage' in metadata:\n",
    "                    print(\"\\nToken usage\")\n",
    "                    print(f\"Input tokens: {metadata['usage']['inputTokens']}\")\n",
    "                    print(\n",
    "                        f\":Output tokens: {metadata['usage']['outputTokens']}\")\n",
    "                    print(f\":Total tokens: {metadata['usage']['totalTokens']}\")\n",
    "                if 'metrics' in event['metadata']:\n",
    "                    print(\n",
    "                        f\"Latency: {metadata['metrics']['latencyMs']} milliseconds\")\n"
   ]
  },
  {
   "cell_type": "code",
   "execution_count": 7,
   "id": "e5b3e38f-f02b-40b7-801b-e5d03d71806e",
   "metadata": {
    "tags": []
   },
   "outputs": [
    {
     "name": "stderr",
     "output_type": "stream",
     "text": [
      "INFO:__main__:Streaming messages with model anthropic.claude-3-sonnet-20240229-v1:0\n"
     ]
    },
    {
     "name": "stdout",
     "output_type": "stream",
     "text": [
      "\n",
      "Role: assistant\n",
      "Here is a draft article on the impact of high inflation on a country's GDP:\n",
      "\n",
      "The Damaging Effects of High Inflation on Economic Growth\n",
      "\n",
      "While moderate inflation is generally viewed as acceptable by economists, high inflation can severely undermine a country's economic performance and growth prospects. When prices rise at an excessive rate, it can create significant headwinds that hold back gross domestic product (GDP) through several key channels.\n",
      "\n",
      "Erosion of Consumer Purchasing Power\n",
      "One of the primary drags high inflation has on GDP is that it erodes consumers' real purchasing power. As prices rise faster than wages, households are left with less discretionary income available to spend on goods and services. This reduced consumer spending, which accounts for the majority of GDP in most economies, directly restrains economic growth. Consumers may be forced to rein in purchases of big-ticket items like homes, vehicles, and appliances when inflation is running hot.\n",
      "\n",
      "Increased Business Costs and Uncertainty\n",
      "High inflation also negatively impacts businesses in several ways that can weigh on GDP growth. It increases operational costs like wages and input prices, squeezing profit margins for many firms. The general uncertainty surrounding the economic outlook during periods of high inflation can cause businesses to postpone capital investment and expansion plans. This pullback in investment spending represents a direct subtraction from GDP.\n",
      "\n",
      "Elevated Borrowing Costs\n",
      "To combat high inflation, central banks typically need to raise interest rates aggressively. While higher rates help restrain inflation over time, they also increase borrowing costs for businesses and consumers. More expensive financing makes big-ticket purchases less affordable and prompts many companies to shelve or delay capital projects and other growth initiatives until rates normalize. This further restrains GDP growth in the short-term.\n",
      "\n",
      "Erosion of Export Competitiveness  \n",
      "Countries experiencing high inflation tend to see their export competitiveness decline as their goods and services become relatively more expensive compared to prices in other markets. This erosion of export competitiveness, combined with higher import prices, leads to a worsening trade deficit which directly subtracts from a nation's GDP.\n",
      "\n",
      "While high inflation can temporarily boost growth in nominal GDP due to the higher prices, it comes at the steep cost of undermining real GDP growth and living standards. Excessive inflation creates a corrosive environment that discourages productive economic activity and investment. As such, most central banks and governments view maintaining low, stable inflation as a critical priority to promote sustainable long-term economic growth.\n",
      "Stop reason: end_turn\n",
      "\n",
      "Token usage\n",
      "Input tokens: 32\n",
      ":Output tokens: 523\n",
      ":Total tokens: 555\n",
      "Latency: 17983 milliseconds\n",
      "Finished generating text with model anthropic.claude-3-sonnet-20240229-v1:0.\n"
     ]
    }
   ],
   "source": [
    "logging.basicConfig(level=logging.INFO,\n",
    "                    format=\"%(levelname)s: %(message)s\")\n",
    "\n",
    "model_id = \"anthropic.claude-3-sonnet-20240229-v1:0\"\n",
    "#model_id = \"mistral.mistral-large-2402-v1:0\"\n",
    "#model_id = \"anthropic.claude-3-haiku-20240307-v1:0\"\n",
    "\n",
    "\n",
    "#system_text = \"You are an economist with access to lots of data. Please return the results in Chinese\"\n",
    "system_text = \"You are an economist with access to lots of data.\"\n",
    "input_text = \"Write an article about impact of high inflation to GDP of a country.\"\n",
    "\n",
    "try:\n",
    "\n",
    "    bedrock_client = boto3.client(service_name='bedrock-runtime')\n",
    "\n",
    "    response = generate_conversation(\n",
    "        bedrock_client, model_id, system_text, input_text)\n",
    "\n",
    "except ClientError as err:\n",
    "    message = err.response['Error']['Message']\n",
    "    logger.error(\"A client error occurred: %s\", message)\n",
    "    print(f\"A client error occured: {message}\")\n",
    "\n",
    "else:\n",
    "    print(\n",
    "        f\"Finished generating text with model {model_id}.\")\n",
    "\n"
   ]
  },
  {
   "cell_type": "code",
   "execution_count": null,
   "id": "b4f2ec58-ffb6-496c-9681-d75f02dd40cc",
   "metadata": {},
   "outputs": [],
   "source": []
  },
  {
   "cell_type": "code",
   "execution_count": null,
   "id": "86ecd808-3a88-4ad8-b81b-9cdde55b8d87",
   "metadata": {},
   "outputs": [],
   "source": []
  }
 ],
 "metadata": {
  "kernelspec": {
   "display_name": "conda_python3",
   "language": "python",
   "name": "conda_python3"
  },
  "language_info": {
   "codemirror_mode": {
    "name": "ipython",
    "version": 3
   },
   "file_extension": ".py",
   "mimetype": "text/x-python",
   "name": "python",
   "nbconvert_exporter": "python",
   "pygments_lexer": "ipython3",
   "version": "3.10.14"
  }
 },
 "nbformat": 4,
 "nbformat_minor": 5
}
